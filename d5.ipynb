{
 "cells": [
  {
   "cell_type": "code",
   "execution_count": 7,
   "metadata": {},
   "outputs": [],
   "source": [
    "with open('input/d5') as f:\n",
    "    lines = f.read().splitlines()"
   ]
  },
  {
   "cell_type": "code",
   "execution_count": 8,
   "metadata": {},
   "outputs": [
    {
     "data": {
      "text/plain": [
       "['BFFBFBFLRL',\n",
       " 'BFBFBBBLRR',\n",
       " 'BFBFBFBLRR',\n",
       " 'BFBFFFFRLR',\n",
       " 'BBFFBBFRRR',\n",
       " 'FBBBFFFRLL',\n",
       " 'FFBFBFFLLL',\n",
       " 'BBFBFFFRLL',\n",
       " 'FBBBFFBLRR',\n",
       " 'FFFFBFFRRL']"
      ]
     },
     "execution_count": 8,
     "metadata": {},
     "output_type": "execute_result"
    }
   ],
   "source": [
    "lines[:10]"
   ]
  },
  {
   "cell_type": "code",
   "execution_count": 9,
   "metadata": {},
   "outputs": [],
   "source": [
    "def calc_pos(c, min_n, max_n):\n",
    "    mean = min_n + ((max_n - min_n) // 2)\n",
    "    if c in ['B', 'R']:\n",
    "        return mean + 1, max_n\n",
    "    else:\n",
    "        return min_n, mean\n"
   ]
  },
  {
   "cell_type": "code",
   "execution_count": 13,
   "metadata": {},
   "outputs": [
    {
     "data": {
      "text/plain": [
       "850"
      ]
     },
     "execution_count": 13,
     "metadata": {},
     "output_type": "execute_result"
    }
   ],
   "source": [
    "max_id =0\n",
    "seat_ids = []\n",
    "for line in lines:\n",
    "    line = line.replace('B', '1').replace('F', '0').replace('R', '1').replace('L', '0')\n",
    "    seat_id = int(line, 2)\n",
    "    seat_ids.append(seat_id)\n",
    "max(seat_ids)"
   ]
  },
  {
   "cell_type": "code",
   "execution_count": 14,
   "metadata": {},
   "outputs": [],
   "source": [
    "seat_ids.sort()"
   ]
  },
  {
   "cell_type": "code",
   "execution_count": 15,
   "metadata": {},
   "outputs": [
    {
     "name": "stdout",
     "output_type": "stream",
     "text": [
      "600 598\n"
     ]
    }
   ],
   "source": [
    "for i, seat_id in enumerate(seat_ids[1:], start=1):\n",
    "    if seat_id != seat_ids[i - 1] + 1:\n",
    "        print(seat_id, seat_ids[i -1])"
   ]
  },
  {
   "cell_type": "code",
   "execution_count": null,
   "metadata": {},
   "outputs": [],
   "source": []
  }
 ],
 "metadata": {
  "kernelspec": {
   "display_name": "Python 3",
   "language": "python",
   "name": "python3"
  },
  "language_info": {
   "codemirror_mode": {
    "name": "ipython",
    "version": 3
   },
   "file_extension": ".py",
   "mimetype": "text/x-python",
   "name": "python",
   "nbconvert_exporter": "python",
   "pygments_lexer": "ipython3",
   "version": "3.6.8"
  }
 },
 "nbformat": 4,
 "nbformat_minor": 4
}
