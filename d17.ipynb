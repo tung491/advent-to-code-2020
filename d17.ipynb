{
 "cells": [
  {
   "cell_type": "code",
   "execution_count": 150,
   "metadata": {},
   "outputs": [],
   "source": [
    "inp = '''#.#..#.#\n",
    "#.......\n",
    "####..#.\n",
    ".#.#.##.\n",
    "..#..#..\n",
    "###..##.\n",
    ".#..##.#\n",
    ".....#..\n",
    "'''"
   ]
  },
  {
   "cell_type": "code",
   "execution_count": 151,
   "metadata": {},
   "outputs": [],
   "source": [
    "lines = inp.splitlines()"
   ]
  },
  {
   "cell_type": "code",
   "execution_count": 152,
   "metadata": {},
   "outputs": [
    {
     "data": {
      "text/plain": [
       "['#.#..#.#',\n",
       " '#.......',\n",
       " '####..#.',\n",
       " '.#.#.##.',\n",
       " '..#..#..',\n",
       " '###..##.',\n",
       " '.#..##.#',\n",
       " '.....#..']"
      ]
     },
     "execution_count": 152,
     "metadata": {},
     "output_type": "execute_result"
    }
   ],
   "source": [
    "lines"
   ]
  },
  {
   "cell_type": "code",
   "execution_count": 153,
   "metadata": {},
   "outputs": [],
   "source": [
    "from itertools import product"
   ]
  },
  {
   "cell_type": "code",
   "execution_count": null,
   "metadata": {},
   "outputs": [],
   "source": []
  },
  {
   "cell_type": "markdown",
   "metadata": {},
   "source": [
    "# Part 1"
   ]
  },
  {
   "cell_type": "code",
   "execution_count": 266,
   "metadata": {},
   "outputs": [],
   "source": [
    "active_locs = set()\n",
    "z = 0\n",
    "for x, line in enumerate(lines):\n",
    "    for y, c in enumerate(line):\n",
    "        if c == '#':\n",
    "            active_locs.add((x, y, z))"
   ]
  },
  {
   "cell_type": "code",
   "execution_count": 267,
   "metadata": {},
   "outputs": [],
   "source": [
    "from collections import defaultdict"
   ]
  },
  {
   "cell_type": "code",
   "execution_count": 274,
   "metadata": {},
   "outputs": [],
   "source": [
    "def gen(active_locs, d):\n",
    "    counter = Counter()\n",
    "    valid_diffs = [-1, 0, 1]\n",
    "    for loc in active_locs:\n",
    "        for transition in product(valid_diffs, repeat=d):\n",
    "            new_loc = tuple(x + y for x, y in zip(loc, transition))\n",
    "            if new_loc != loc:\n",
    "                counter[new_loc] += 1\n",
    "    still_active = set(loc for loc in active_locs if counter[loc] in [2, 3])\n",
    "    inac_to_active = set(loc for loc, count in counter.items() if count == 3 and loc not in active_locs)\n",
    "    new_active_locs = still_active | inac_to_active\n",
    "    return new_active_locs"
   ]
  },
  {
   "cell_type": "code",
   "execution_count": 270,
   "metadata": {},
   "outputs": [],
   "source": [
    "for _ in range(6):\n",
    "    active_locs = gen(active_locs, 3)"
   ]
  },
  {
   "cell_type": "code",
   "execution_count": 271,
   "metadata": {},
   "outputs": [
    {
     "data": {
      "text/plain": [
       "324"
      ]
     },
     "execution_count": 271,
     "metadata": {},
     "output_type": "execute_result"
    }
   ],
   "source": [
    "len(active_locs)"
   ]
  },
  {
   "cell_type": "markdown",
   "metadata": {},
   "source": [
    "# Part 2"
   ]
  },
  {
   "cell_type": "code",
   "execution_count": 272,
   "metadata": {},
   "outputs": [],
   "source": [
    "active_locs = set()\n",
    "z = 0\n",
    "for x, line in enumerate(lines):\n",
    "    for y, c in enumerate(line):\n",
    "        if c == '#':\n",
    "            active_locs.add((x, y, z, z))"
   ]
  },
  {
   "cell_type": "code",
   "execution_count": 275,
   "metadata": {},
   "outputs": [],
   "source": [
    "for _ in range(6):\n",
    "    active_locs = gen(active_locs, 4)"
   ]
  },
  {
   "cell_type": "code",
   "execution_count": 276,
   "metadata": {},
   "outputs": [
    {
     "data": {
      "text/plain": [
       "1836"
      ]
     },
     "execution_count": 276,
     "metadata": {},
     "output_type": "execute_result"
    }
   ],
   "source": [
    "len(active_locs)"
   ]
  },
  {
   "cell_type": "code",
   "execution_count": null,
   "metadata": {},
   "outputs": [],
   "source": []
  }
 ],
 "metadata": {
  "kernelspec": {
   "display_name": "Python 3",
   "language": "python",
   "name": "python3"
  },
  "language_info": {
   "codemirror_mode": {
    "name": "ipython",
    "version": 3
   },
   "file_extension": ".py",
   "mimetype": "text/x-python",
   "name": "python",
   "nbconvert_exporter": "python",
   "pygments_lexer": "ipython3",
   "version": "3.9.0"
  }
 },
 "nbformat": 4,
 "nbformat_minor": 4
}
