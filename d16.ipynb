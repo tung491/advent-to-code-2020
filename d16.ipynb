{
 "cells": [
  {
   "cell_type": "code",
   "execution_count": 1,
   "metadata": {},
   "outputs": [],
   "source": [
    "from collections import defaultdict\n",
    "import re"
   ]
  },
  {
   "cell_type": "code",
   "execution_count": 2,
   "metadata": {},
   "outputs": [],
   "source": [
    "with open('input/d16') as f:\n",
    "    secs = f.read().split('\\n\\n')"
   ]
  },
  {
   "cell_type": "markdown",
   "metadata": {},
   "source": [
    "# Part 1"
   ]
  },
  {
   "cell_type": "code",
   "execution_count": 3,
   "metadata": {},
   "outputs": [],
   "source": [
    "rules = {}\n",
    "validators = []\n",
    "rule_names = []\n",
    "for rule_line in secs[0].splitlines():\n",
    "    rule_name, range_str = rule_line.split(':')\n",
    "    rule_names.append(rule_name)\n",
    "    int_range = [(int(n[0]), int(n[1]) + 1) for n in re.findall('(\\d+)-(\\d+)', range_str)]\n",
    "    validators += [[range(*i) for i in int_range]]"
   ]
  },
  {
   "cell_type": "code",
   "execution_count": 4,
   "metadata": {},
   "outputs": [],
   "source": [
    "validators_1 = []\n",
    "for validator in validators:\n",
    "    validators_1.extend(validator)"
   ]
  },
  {
   "cell_type": "code",
   "execution_count": 5,
   "metadata": {},
   "outputs": [],
   "source": [
    "rs1 = 0\n",
    "\n",
    "valid_tickets = []\n",
    "for line in secs[2].splitlines()[1:]:\n",
    "    vals = [int(n) for n in line.split(',')]\n",
    "    is_valid = True\n",
    "    for val in vals:\n",
    "        if any(val in valid_range for valid_range in validators_1): continue\n",
    "        else:\n",
    "            rs1 += val\n",
    "            is_valid = False\n",
    "    if is_valid:\n",
    "        valid_tickets.append(line)"
   ]
  },
  {
   "cell_type": "code",
   "execution_count": 6,
   "metadata": {},
   "outputs": [
    {
     "name": "stdout",
     "output_type": "stream",
     "text": [
      "26009\n"
     ]
    }
   ],
   "source": [
    "print(rs1)"
   ]
  },
  {
   "cell_type": "markdown",
   "metadata": {},
   "source": [
    "# Part 2"
   ]
  },
  {
   "cell_type": "code",
   "execution_count": 8,
   "metadata": {},
   "outputs": [],
   "source": [
    "valid_tickets.append(secs[1].splitlines()[1])"
   ]
  },
  {
   "cell_type": "code",
   "execution_count": 9,
   "metadata": {},
   "outputs": [],
   "source": [
    "def gen_field_values(i):\n",
    "    for ticket in valid_tickets:\n",
    "        yield int(ticket.split(',')[i])"
   ]
  },
  {
   "cell_type": "code",
   "execution_count": 10,
   "metadata": {},
   "outputs": [],
   "source": [
    "remains_rows = list(range(20))\n",
    "rules = dict(zip(rule_names, validators))\n",
    "valid_cases = set()\n",
    "\n",
    "while remains_rows:\n",
    "    remain_row = remains_rows.pop()\n",
    "    for rule in rules.items():\n",
    "        if all(any(val in validator for validator in rule[1]) for val in gen_field_values(remain_row)):\n",
    "            valid_cases.add((remain_row, rule[0]))"
   ]
  },
  {
   "cell_type": "code",
   "execution_count": 11,
   "metadata": {},
   "outputs": [],
   "source": [
    "fields = defaultdict(set)\n",
    "for i, field in valid_cases:\n",
    "    fields[field].add(i)"
   ]
  },
  {
   "cell_type": "code",
   "execution_count": 12,
   "metadata": {},
   "outputs": [
    {
     "data": {
      "text/plain": [
       "589685618167"
      ]
     },
     "execution_count": 12,
     "metadata": {},
     "output_type": "execute_result"
    }
   ],
   "source": [
    "my_ticket_vals = list(map(int, secs[1].splitlines()[1].split(',')))\n",
    "excluded = set()\n",
    "rs2 = 1\n",
    "for name, valid_in in sorted(list(fields.items()), key=lambda x: len(x[1])):\n",
    "    n = (valid_in - excluded).pop()\n",
    "    excluded.add(n)\n",
    "    if name.startswith('departure'):\n",
    "        rs2 *= my_ticket_vals[n]\n",
    "rs2"
   ]
  },
  {
   "cell_type": "code",
   "execution_count": null,
   "metadata": {},
   "outputs": [],
   "source": []
  }
 ],
 "metadata": {
  "kernelspec": {
   "display_name": "Python 3",
   "language": "python",
   "name": "python3"
  },
  "language_info": {
   "codemirror_mode": {
    "name": "ipython",
    "version": 3
   },
   "file_extension": ".py",
   "mimetype": "text/x-python",
   "name": "python",
   "nbconvert_exporter": "python",
   "pygments_lexer": "ipython3",
   "version": "3.9.0"
  }
 },
 "nbformat": 4,
 "nbformat_minor": 4
}
