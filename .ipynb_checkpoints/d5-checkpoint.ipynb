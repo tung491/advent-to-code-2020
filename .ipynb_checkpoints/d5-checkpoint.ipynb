{
 "cells": [
  {
   "cell_type": "code",
   "execution_count": 1,
   "metadata": {},
   "outputs": [],
   "source": [
    "with open('Downloads/d5') as f:\n",
    "    lines = f.read().splitlines()"
   ]
  },
  {
   "cell_type": "code",
   "execution_count": 2,
   "metadata": {},
   "outputs": [
    {
     "data": {
      "text/plain": [
       "['BFFBFBFLRL',\n",
       " 'BFBFBBBLRR',\n",
       " 'BFBFBFBLRR',\n",
       " 'BFBFFFFRLR',\n",
       " 'BBFFBBFRRR',\n",
       " 'FBBBFFFRLL',\n",
       " 'FFBFBFFLLL',\n",
       " 'BBFBFFFRLL',\n",
       " 'FBBBFFBLRR',\n",
       " 'FFFFBFFRRL']"
      ]
     },
     "execution_count": 2,
     "metadata": {},
     "output_type": "execute_result"
    }
   ],
   "source": [
    "lines[:10]"
   ]
  },
  {
   "cell_type": "code",
   "execution_count": 6,
   "metadata": {},
   "outputs": [],
   "source": [
    "max_id =0\n",
    "seat_ids = []\n",
    "for line in lines:\n",
    "    min_r, max_r = 0, 127\n",
    "    for row in line[:-3]:\n",
    "        min_r, max_r = calc_pos(row, min_r, max_r)\n",
    "    if row == 'B':\n",
    "        row_pos = max_r\n",
    "    else:\n",
    "        row_pos = min_r\n",
    "    \n",
    "    min_c, max_c = 0, 7\n",
    "    for col in line[-3:]:\n",
    "        min_c, max_c = calc_pos(col, min_c, max_c)\n",
    "    col_pos = max_c if col == 'R' else min_c\n",
    "    id_ = 8 * row_pos + col_pos\n",
    "    max_id = max(id_, max_id)\n",
    "    seat_ids.append(id_)"
   ]
  },
  {
   "cell_type": "code",
   "execution_count": 7,
   "metadata": {},
   "outputs": [],
   "source": [
    "def calc_pos(c, min_n, max_n):\n",
    "    mean = min_n + ((max_n - min_n) // 2)\n",
    "    if c in ['B', 'R']:\n",
    "        return mean + 1, max_n\n",
    "    else:\n",
    "        return min_n, mean\n"
   ]
  },
  {
   "cell_type": "code",
   "execution_count": 8,
   "metadata": {},
   "outputs": [],
   "source": [
    "seat_ids.sort()"
   ]
  },
  {
   "cell_type": "code",
   "execution_count": 9,
   "metadata": {},
   "outputs": [
    {
     "name": "stdout",
     "output_type": "stream",
     "text": [
      "600 598\n"
     ]
    }
   ],
   "source": [
    "for i, seat_id in enumerate(seat_ids[1:], start=1):\n",
    "    if seat_id != seat_ids[i - 1] + 1:\n",
    "        print(seat_id, seat_ids[i -1])"
   ]
  },
  {
   "cell_type": "code",
   "execution_count": null,
   "metadata": {},
   "outputs": [],
   "source": []
  }
 ],
 "metadata": {
  "kernelspec": {
   "display_name": "Python 3",
   "language": "python",
   "name": "python3"
  },
  "language_info": {
   "codemirror_mode": {
    "name": "ipython",
    "version": 3
   },
   "file_extension": ".py",
   "mimetype": "text/x-python",
   "name": "python",
   "nbconvert_exporter": "python",
   "pygments_lexer": "ipython3",
   "version": "3.6.8"
  }
 },
 "nbformat": 4,
 "nbformat_minor": 4
}
