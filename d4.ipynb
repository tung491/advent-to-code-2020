{
 "cells": [
  {
   "cell_type": "code",
   "execution_count": 1,
   "metadata": {},
   "outputs": [],
   "source": [
    "import re"
   ]
  },
  {
   "cell_type": "code",
   "execution_count": 2,
   "metadata": {},
   "outputs": [],
   "source": [
    "with open('input/d4') as f:\n",
    "    data = f.read()\n",
    "    passports = data.split('\\n\\n')"
   ]
  },
  {
   "cell_type": "code",
   "execution_count": 3,
   "metadata": {},
   "outputs": [],
   "source": [
    "valid_fields = {'byr', 'iyr', 'eyr', 'hgt', 'hcl', 'ecl', 'pid'}"
   ]
  },
  {
   "cell_type": "code",
   "execution_count": 4,
   "metadata": {},
   "outputs": [
    {
     "data": {
      "text/plain": [
       "200"
      ]
     },
     "execution_count": 4,
     "metadata": {},
     "output_type": "execute_result"
    }
   ],
   "source": [
    "count = 0\n",
    "for passport in passports:\n",
    "    fields = dict(field.split(':') for field in passport.split())\n",
    "    if not valid_fields - set(fields.keys()):\n",
    "        count += 1\n",
    "count"
   ]
  },
  {
   "cell_type": "code",
   "execution_count": 14,
   "metadata": {},
   "outputs": [],
   "source": [
    "def validate_byr(byr):\n",
    "    return 1920 <= int(byr) <= 2002\n",
    "\n",
    "def validate_iyr(iyr):\n",
    "    return 2010 <= int(iyr) <= 2020\n",
    "\n",
    "def validate_eyr(eyr):\n",
    "    return 2020 <= int(eyr) <= 2030\n",
    "\n",
    "def validate_hgt(hgt):\n",
    "    if hgt.endswith('in') and 59 <= int(hgt[:-2]) <= 76:\n",
    "        return True\n",
    "    elif hgt.endswith('cm') and 150 <= int(hgt[:-2]) <= 193:\n",
    "        return True\n",
    "    else:\n",
    "        return False\n",
    "\n",
    "def validate_hcl(hcl):\n",
    "    return bool(re.fullmatch(r'^#[0-9a-f]{6}$', hcl))\n",
    "\n",
    "def validate_ecl(ecl):\n",
    "    return True if ecl in 'amb blu brn gry grn hzl oth'.split() else False\n",
    "\n",
    "def validate_pid(pid):\n",
    "    return bool(re.fullmatch(r'^\\d{9}$', pid))"
   ]
  },
  {
   "cell_type": "code",
   "execution_count": 15,
   "metadata": {},
   "outputs": [],
   "source": [
    "validators = {\n",
    "    'byr': validate_byr,\n",
    "    'iyr': validate_iyr,\n",
    "    'eyr': validate_eyr,\n",
    "    'hgt': validate_hgt,\n",
    "    'hcl': validate_hcl,\n",
    "    'pid': validate_pid,\n",
    "    'ecl': validate_ecl,\n",
    "    'cid': lambda x: True\n",
    "}"
   ]
  },
  {
   "cell_type": "code",
   "execution_count": 16,
   "metadata": {},
   "outputs": [],
   "source": [
    "count = 0\n",
    "for passport in passports:\n",
    "    fields = dict(field.split(':') for field in passport.split())\n",
    "    if not valid_fields - set(fields.keys()):\n",
    "        if all(validators[k](v) for k, v in fields.items()):\n",
    "            count += 1"
   ]
  },
  {
   "cell_type": "code",
   "execution_count": 17,
   "metadata": {},
   "outputs": [
    {
     "data": {
      "text/plain": [
       "116"
      ]
     },
     "execution_count": 17,
     "metadata": {},
     "output_type": "execute_result"
    }
   ],
   "source": [
    "count"
   ]
  },
  {
   "cell_type": "code",
   "execution_count": null,
   "metadata": {},
   "outputs": [],
   "source": []
  }
 ],
 "metadata": {
  "kernelspec": {
   "display_name": "Python 3",
   "language": "python",
   "name": "python3"
  },
  "language_info": {
   "codemirror_mode": {
    "name": "ipython",
    "version": 3
   },
   "file_extension": ".py",
   "mimetype": "text/x-python",
   "name": "python",
   "nbconvert_exporter": "python",
   "pygments_lexer": "ipython3",
   "version": "3.6.8"
  }
 },
 "nbformat": 4,
 "nbformat_minor": 4
}
